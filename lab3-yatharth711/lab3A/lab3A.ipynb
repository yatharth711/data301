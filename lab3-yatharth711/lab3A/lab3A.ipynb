{
 "cells": [
  {
   "cell_type": "markdown",
   "metadata": {},
   "source": [
    "# Lab 3A: Python Fundamentals \n",
    "\n",
    "In this lab you will be working on python basics.\n",
    "\n",
    "**This lab must be completed individually.**\n",
    "\n",
    "Where provided, try your best to match the **Sample Output** as best as you can.\n",
    "\n",
    "## Accept the lab\n",
    "\n",
    "To accept this lab on GitHub Classroom, go to `Canvas` --> `Course Content` --> `Lab Links and Solutions`."
   ]
  },
  {
   "cell_type": "markdown",
   "metadata": {},
   "source": [
    "## Objectives\n",
    "\n",
    "In this lab you will:\n",
    "\n",
    "1. Practice creating and using Python functions.\n",
    "2. Practice using Python to work with directories and files.\n",
    "3. Practice working with vectors and the numpy package.\n",
    "4. Practice working with Dictionaries and Lists.\n",
    "5. Practice creating a pandas data frame from a dictionary."
   ]
  },
  {
   "cell_type": "code",
   "execution_count": 6,
   "metadata": {},
   "outputs": [],
   "source": [
    "# Add your import commands here\n",
    "import math\n",
    "import os"
   ]
  },
  {
   "cell_type": "markdown",
   "metadata": {},
   "source": [
    "## Task 1: Creating Functions (3 marks)\n",
    "\n",
    "In your projects, you may need to create your own functions to do some complex calculations (beyond mean, median etc...). In this question you will write a function to find the roots of a quadratic equation.\n",
    "\n",
    "To refresh your memory from high school math, a quadratic function looks like this:\n",
    "\n",
    "<img src=\"images/quadratic.png\" width=\"500px\">\n",
    "\n",
    "Given the standard form of a quadratic equation, $ax^2 + bx + c = 0$ where *a, b, c* are known real numbers and $a\\neq0$, the quadratic formula to find unknown $x$ is:\n",
    "$$x=\\frac{-b ± \\sqrt{b^2-4ac}}{2a}$$\n",
    "\n",
    "Write a python function that calculates and prints all possible real (i.e. non-complex) answers for $x$. \n",
    "\n",
    "Check your function by running it on some test data points:\n",
    "\n",
    "- `solution(1,1,1)`,\n",
    "- `solution(1,0,-4)`,\n",
    "- `solution(1,2,1)`. \n",
    "\n",
    "#### Sample Output\n",
    ">--> For a=1, b=1, and c=1:<br>\n",
    ">The equation does not have any real solution<br>\n",
    ">--> For a=1, b=0, and c=-4:<br>\n",
    ">x1 = 2.0 and x2 = -2.0<br>\n",
    ">--> For a=1, b=2, and c=1:<br>\n",
    ">x = -1.0<br>"
   ]
  },
  {
   "cell_type": "code",
   "execution_count": 5,
   "metadata": {},
   "outputs": [
    {
     "name": "stdout",
     "output_type": "stream",
     "text": [
      "The equation does not have real solutions\n"
     ]
    }
   ],
   "source": [
    "\n",
    "\n",
    "def solution(a,b,c):\n",
    "\n",
    "    D = (b**2-4*a*c)\n",
    "    if D>0:\n",
    "        x1= ((-b + math.sqrt(D))/(2*a))\n",
    "        x2 = ((-b -math.sqrt(D))/(2*a))\n",
    "        print(f\"The first value:{x1} \")\n",
    "        print(f\"The second value:{x2} \")\n",
    "    elif D==0:\n",
    "        x = (-b)/(2*a)\n",
    "        print(f\"The value of x is:{x} \")\n",
    "    else:\n",
    "        print(\"The equation does not have real solutions\")\n",
    "\n",
    "solution(1,1,1)\n"
   ]
  },
  {
   "cell_type": "code",
   "execution_count": 2,
   "metadata": {},
   "outputs": [
    {
     "name": "stdout",
     "output_type": "stream",
     "text": [
      "The equation does not have real solutions\n"
     ]
    }
   ],
   "source": [
    "solution(1,1,1)"
   ]
  },
  {
   "cell_type": "code",
   "execution_count": 3,
   "metadata": {},
   "outputs": [
    {
     "name": "stdout",
     "output_type": "stream",
     "text": [
      "The first value:2.0 \n",
      "The second value:-2.0 \n"
     ]
    }
   ],
   "source": [
    "solution(1,0,-4)"
   ]
  },
  {
   "cell_type": "code",
   "execution_count": 4,
   "metadata": {},
   "outputs": [
    {
     "name": "stdout",
     "output_type": "stream",
     "text": [
      "The second value:-1.0 \n"
     ]
    }
   ],
   "source": [
    "solution(1,2,1)"
   ]
  },
  {
   "cell_type": "markdown",
   "metadata": {},
   "source": [
    "## Task 2: Functions (Total: 6 marks)\n",
    "\n",
    "Remember in a previous lab, you used the *tree* command to show a map of all directories and files within a directory. \n",
    "In this section, we want to make a similar program, but using python instead. "
   ]
  },
  {
   "cell_type": "markdown",
   "metadata": {},
   "source": [
    "### 2.1: `ListFiles()` (2 marks): \n",
    "\n",
    "**Task: Your task is to create a python function called `ListFiles()` that takes in a directory path and then finds and print all the files (not directories) in a given directory (relative to `./`).**\n",
    "\n",
    "We suggest you use the [`listdir()` function](https://docs.python.org/3/library/os.html#os.listdir) and `isfile()` functions from the `os` module.\n",
    "\n",
    "In your GitHub repository, there is a folder called `directory_list` which contains some sample files. \n",
    "\n",
    "*Hint 1: don't forget to first `import os` to use `os.listdir()` and `os.path.isfile()`.*\n",
    "\n",
    "*Hint 2: You can see the following tutorials if you need some extra help or some worked examples: [link1](https://www.tutorialspoint.com/python/os_listdir.htm) and [link2](https://www.geeksforgeeks.org/python-os-path-isfile-method/)*.\n",
    "\n",
    "#### Sample Output\n",
    ">directory/file1.txt<br>\n",
    ">directory/file2.txt<br>\n",
    ">directory/file3.txt<br>\n",
    ">directory/file4.txt<br>"
   ]
  },
  {
   "cell_type": "code",
   "execution_count": 9,
   "metadata": {},
   "outputs": [
    {
     "name": "stdout",
     "output_type": "stream",
     "text": [
      "directory_list/file1.txt\n",
      "directory_list/file2.txt\n",
      "directory_list/file3.txt\n",
      "directory_list/file4.txt\n"
     ]
    }
   ],
   "source": [
    "def ListFiles(address):\n",
    "    path = f'C:\\\\Users\\Yatharth Mathur\\Desktop\\\\{address}'\n",
    "    for f in os.listdir(path):\n",
    "        if os.path.isfile(os.path.join(path, f)):\n",
    "            print(address+\"/\"+f)\n",
    "\n",
    "ListFiles(\"directory_list\")"
   ]
  },
  {
   "cell_type": "code",
   "execution_count": 10,
   "metadata": {},
   "outputs": [
    {
     "name": "stdout",
     "output_type": "stream",
     "text": [
      "directory_list/file1.txt\n",
      "directory_list/file2.txt\n",
      "directory_list/file3.txt\n",
      "directory_list/file4.txt\n"
     ]
    }
   ],
   "source": [
    "\n",
    "ListFiles(\"directory_list\")"
   ]
  },
  {
   "cell_type": "markdown",
   "metadata": {},
   "source": [
    "### 2.2: `ListDirectories()` (2 marks): \n",
    "\n",
    "**Task: Use the `os.listdir()` and `os.path.isdir()` function to find and print all the directories (not files) in a given folder.\n",
    "Create a python function `ListDirectories(path)` that prints all the directories in that folder (and subfolders).\n",
    "You may also use the new [`pathlib`](https://realpython.com/python-pathlib/) package from Python if you like***\n",
    "\n",
    "#### Sample Output (order does not matter)\n",
    "> directory_list/dir2/ <br>\n",
    "> directory_list/dir4/ <br>\n",
    "> directory_list/dir3/ <br>\n",
    "> directory_list/dir1/ <br>"
   ]
  },
  {
   "cell_type": "code",
   "execution_count": 14,
   "metadata": {},
   "outputs": [
    {
     "name": "stdout",
     "output_type": "stream",
     "text": [
      "directory_list/dir1\n",
      "directory_list/dir2\n",
      "directory_list/dir3\n",
      "directory_list/dir4\n"
     ]
    }
   ],
   "source": [
    "import os\n",
    "\n",
    "def ListDirectories(address):\n",
    "    path = f'C:\\\\Users\\Yatharth Mathur\\Desktop\\\\{address}'\n",
    "    for f in os.listdir(path):\n",
    "        if os.path.isdir(os.path.join(path,f)):\n",
    "            print(address+\"/\"+f)\n",
    "\n",
    "ListDirectories(\"directory_list\")\n",
    "\n",
    "\n",
    "## I have refered to the following site and learnt about os.path.join:\n",
    "##“Os.path - Common Pathname Manipulations¶.” Os.path - Common Pathname Manipulations - Python 3.9.6 Documentation, docs.python.org/3/library/os.path.html. "
   ]
  },
  {
   "cell_type": "code",
   "execution_count": 12,
   "metadata": {},
   "outputs": [
    {
     "name": "stdout",
     "output_type": "stream",
     "text": [
      "directory_list/dir1\n",
      "directory_list/dir2\n",
      "directory_list/dir3\n",
      "directory_list/dir4\n"
     ]
    }
   ],
   "source": [
    "ListDirectories(\"directory_list\")"
   ]
  },
  {
   "cell_type": "markdown",
   "metadata": {},
   "source": [
    "### 2.3: `tree()` (2 marks): \n",
    "\n",
    "**Task: Write a function `tree(path)` that prints a map of all directories AND files within a directory.**\n",
    "\n",
    "*Hint: you can use the functions you created above, or you may use the [`os.walk()`](https://www.tutorialspoint.com/python/os_walk.htm) function to complete this task (there are many ways to do it). Another option is to use [glob](https://www.geeksforgeeks.org/how-to-use-glob-function-to-find-files-recursively-in-python/).* You can explore multiple solutions if you like.\n",
    "\n",
    "#### Sample Output\n",
    "> directory_list/file1.txt <br>\n",
    "> directory_list/file2.txt <br>\n",
    "> directory_list/file3.txt <br>\n",
    "> directory_list/file4.txt <br>\n",
    "> directory_list/dir1/ <br>\n",
    "> directory_list/dir1/file24.txt <br>\n",
    "> directory_list/dir1/file23.txt <br>\n",
    "> directory_list/dir2/ <br>\n",
    "> directory_list/dir2/file34.txt <br>\n",
    "> directory_list/dir3/ <br>\n",
    "> directory_list/dir3/file110.txt <br>\n",
    "> directory_list/dir3/file140.txt <br>\n",
    "> directory_list/dir3/file130.txt <br>\n",
    "> directory_list/dir3/file120.txt <br>\n",
    "> directory_list/dir4/ <br>\n",
    "> directory_list/dir4/file11.txt <br>\n",
    "> directory_list/dir4/file12.txt <br>\n",
    "> directory_list/dir4/file13.txt <br>\n",
    "> directory_list/dir4/file14.txt <br>"
   ]
  },
  {
   "cell_type": "code",
   "execution_count": 15,
   "metadata": {},
   "outputs": [
    {
     "name": "stdout",
     "output_type": "stream",
     "text": [
      "C:\\Users\\Yatharth Mathur\\Desktop\\directory_list\n",
      "['dir1', 'dir2', 'dir3', 'dir4']\n",
      "['file1.txt', 'file2.txt', 'file3.txt', 'file4.txt']\n",
      "C:\\Users\\Yatharth Mathur\\Desktop\\directory_list\\dir1\n",
      "[]\n",
      "['file23.txt', 'file24.txt']\n",
      "C:\\Users\\Yatharth Mathur\\Desktop\\directory_list\\dir2\n",
      "[]\n",
      "['file34.txt']\n",
      "C:\\Users\\Yatharth Mathur\\Desktop\\directory_list\\dir3\n",
      "[]\n",
      "['file110.txt', 'file120.txt', 'file130.txt', 'file140.txt']\n",
      "C:\\Users\\Yatharth Mathur\\Desktop\\directory_list\\dir4\n",
      "[]\n",
      "['file11.txt', 'file12.txt', 'file13.txt', 'file14.txt']\n"
     ]
    }
   ],
   "source": [
    "def tree(path):\n",
    "    address=f'C:\\\\Users\\Yatharth Mathur\\Desktop\\\\{path}'\n",
    "\n",
    "    for dirpath,dirs,files in os.walk(address):\n",
    "        print(dirpath)\n",
    "        print(dirs)\n",
    "        print(files)\n",
    "\n",
    "tree(\"directory_list\")"
   ]
  },
  {
   "cell_type": "code",
   "execution_count": 16,
   "metadata": {},
   "outputs": [
    {
     "name": "stdout",
     "output_type": "stream",
     "text": [
      "C:\\Users\\Yatharth Mathur\\Desktop\\directory_list\n",
      "['dir1', 'dir2', 'dir3', 'dir4']\n",
      "['file1.txt', 'file2.txt', 'file3.txt', 'file4.txt']\n",
      "C:\\Users\\Yatharth Mathur\\Desktop\\directory_list\\dir1\n",
      "[]\n",
      "['file23.txt', 'file24.txt']\n",
      "C:\\Users\\Yatharth Mathur\\Desktop\\directory_list\\dir2\n",
      "[]\n",
      "['file34.txt']\n",
      "C:\\Users\\Yatharth Mathur\\Desktop\\directory_list\\dir3\n",
      "[]\n",
      "['file110.txt', 'file120.txt', 'file130.txt', 'file140.txt']\n",
      "C:\\Users\\Yatharth Mathur\\Desktop\\directory_list\\dir4\n",
      "[]\n",
      "['file11.txt', 'file12.txt', 'file13.txt', 'file14.txt']\n"
     ]
    }
   ],
   "source": [
    "# Test your function\n",
    "tree(\"directory_list\")"
   ]
  },
  {
   "cell_type": "markdown",
   "metadata": {},
   "source": [
    "## Task 3: `numpy` (Total: 8 marks)\n",
    "\n",
    "In this section, we will practive using the `numpy` library.\n",
    "First, import the `numpy` library\n",
    "\n",
    "```\n",
    "import numpy as np\n",
    "```"
   ]
  },
  {
   "cell_type": "markdown",
   "metadata": {},
   "source": [
    "### 3.1: Create a vector (3 marks)\n",
    "\n",
    "**Task: Create an empty vector of size 10 filled with NaN.**\n",
    "\n",
    "*Hint: you need to use [`zeros()` method](https://numpy.org/doc/stable/reference/generated/numpy.zeros.html) or the [`empty()` method](https://numpy.org/doc/stable/reference/generated/numpy.empty.html?highlight=empty#numpy.empty)*"
   ]
  },
  {
   "cell_type": "code",
   "execution_count": 14,
   "metadata": {},
   "outputs": [
    {
     "name": "stdout",
     "output_type": "stream",
     "text": [
      "[nan nan nan nan nan nan nan nan nan nan]\n"
     ]
    }
   ],
   "source": [
    "# Your Solution here\n",
    "import numpy as np\n",
    "a = np.empty((10))\n",
    "a [:]= np.nan\n",
    "print(a)\n",
    "\n"
   ]
  },
  {
   "cell_type": "markdown",
   "metadata": {},
   "source": [
    "# 3.2: Working with Vectors (2 marks)\n",
    "\n",
    "**Task: Create a random vector of size 10 and then find its mean, max, min, and sum value.**\n",
    "\n",
    "*Hint: for random vector you need to use `np.random.random()` and for the mean, max, min, sum you need to use build-in numpy methods `mean()`,`max()`,`min()`,`sum()`*.\n",
    "\n",
    "#### Sample output (Your numbers will be different)\n",
    "\n",
    ">[0.66698639 0.32937943 0.12074085 0.21788496 0.75628444 0.56461791\n",
    " 0.38162184 0.60966053 0.00491222 0.80007239]<br/>\n",
    ">The max is: 0.800<br/>\n",
    ">The min is: 0.005<br/>\n",
    ">The sum is: 4.452<br/>\n",
    ">The mean is: 0.445<br/>"
   ]
  },
  {
   "cell_type": "code",
   "execution_count": 17,
   "metadata": {},
   "outputs": [
    {
     "name": "stdout",
     "output_type": "stream",
     "text": [
      "[0.34233729 0.89870909 0.53606765 0.45238863 0.53531736 0.74159019\n",
      " 0.90002612 0.97061258 0.94841623 0.09631361]\n",
      "Maximum: 0.9706125830526368 \n",
      "Minimum: 0.09631360700102376\n",
      "Sum is: 6.421778735931051\n",
      "Mean: 0.6421778735931051\n"
     ]
    }
   ],
   "source": [
    "# Your Solution here\n",
    "import numpy as np\n",
    "a = np.empty((10))\n",
    "a = np.random.random(10)\n",
    "print(a)\n",
    "print(f'Maximum: {np.amax(a,axis=0)} ')\n",
    "print(f'Minimum: {np.amin(a,axis=0)}')\n",
    "print(f'Sum is: {np.char.chararray.sum(a)}')\n",
    "print(f'Mean: {np.char.chararray.mean(a)}')\n",
    "\n",
    "\n",
    "\n",
    "\n"
   ]
  },
  {
   "cell_type": "markdown",
   "metadata": {},
   "source": [
    "### 3.4: More vectors (3 marks)\n",
    "\n",
    "**Task: Using `numpy` Create a vector of size 15 which contains random values ranging from 10 to 90 and replace the minimum value with 100 and maximum value with 0. Print the mean, befor and after.**\n",
    "\n",
    "*Hint: you may need to use `argmax()` and `argmin()`. \n",
    "Documentation for that can be found [here](https://numpy.org/doc/stable/reference/generated/numpy.argmax.html).*\n",
    "\n",
    "\n",
    "##### Sample output\n",
    ">before: [20 27 10 63 57 71 50 18 76 56 38 62 10  9 12]<br>\n",
    ">mean: 38.6<br>\n",
    ">after: [ 20  27  10  63  57  71  50  18 100  56  38  62  10   9  12]<br>\n",
    ">mean: 40.2<br>"
   ]
  },
  {
   "cell_type": "code",
   "execution_count": 18,
   "metadata": {},
   "outputs": [
    {
     "name": "stdout",
     "output_type": "stream",
     "text": [
      "[50 20 12 35 26 24 14 68 63 71 45 11 70 78 59]\n",
      "Mean:43.06666666666667\n",
      "[ 50  20  12  35  26  24  14  68  63  71  45 100  70   0  59]\n",
      "New Mean: 43.8\n"
     ]
    }
   ],
   "source": [
    "# Your Solution here\n",
    "import numpy as np\n",
    "a = np.empty((15))\n",
    "a = np.random.randint(10,90,size = 15)\n",
    "mean = np.char.chararray.mean(a)\n",
    "max = np.amax(a,axis=0)\n",
    "min = np.amin(a,axis=0)\n",
    "print(a)\n",
    "print(f'Mean:{mean}')\n",
    "a = np.where(a==min,100,a)\n",
    "a = np.where(a==max,0,a)\n",
    "print(a)\n",
    "newmean = np.char.chararray.mean(a)\n",
    "print(f'New Mean: {newmean}')\n",
    "\n",
    "\n",
    "\n"
   ]
  },
  {
   "cell_type": "markdown",
   "metadata": {},
   "source": [
    "## Task 4 - Dictionaries, Lists and data manapulation (10 marks)\n",
    "\n",
    "In this part we explore another fundamental data structure in python, called Dictionaries."
   ]
  },
  {
   "cell_type": "markdown",
   "metadata": {},
   "source": [
    "### 4.1: Create a dictionary that has 3 keys: name, age and salary, and enter in the following dummy information. (2 marks)\n",
    "\n",
    "#### Sample output\n",
    "> {'name': 'Tim Cook', 'age': 59, 'salary': 3000000.0}"
   ]
  },
  {
   "cell_type": "code",
   "execution_count": 19,
   "metadata": {},
   "outputs": [
    {
     "name": "stdout",
     "output_type": "stream",
     "text": [
      "{'name': 'Tim Cook', 'age': 59, 'Salary': 3000000.0}\n"
     ]
    }
   ],
   "source": [
    "### Your solution here\n",
    "people = {'name':'Tim Cook','age':59,'Salary': 3000000.0}\n",
    "print(people)"
   ]
  },
  {
   "cell_type": "markdown",
   "metadata": {},
   "source": [
    "### 4.2: Create a second dictionary, this time with at least 5 different names, ages, and salaries. (2 marks)\n",
    "\n",
    "*Hint: There should only be three keys, and the values should be a list.*\n",
    "\n",
    "#### Sample Output\n",
    "\n",
    "> {'name': ['Tim Cook', 'Person 2', 'Person 3'],\n",
    "> 'age': [59, 24, 40],\n",
    "> 'salary': [30000000.0, 200000.0, 900000.0]}"
   ]
  },
  {
   "cell_type": "code",
   "execution_count": 20,
   "metadata": {},
   "outputs": [
    {
     "name": "stdout",
     "output_type": "stream",
     "text": [
      "{'name': ['Tim Cook', 'Mark Zuckerberg', 'Elon Musk'], 'age': [59, 37, 50], 'Salary': [3000000.0, 200000.0, 10000000.0]}\n"
     ]
    }
   ],
   "source": [
    "### Your solution here\n",
    "people = {'name':['Tim Cook','Mark Zuckerberg','Elon Musk'],'age':[59,37,50],'Salary': [3000000.0,200000.0,10000000.0]}\n",
    "print(people)"
   ]
  },
  {
   "cell_type": "markdown",
   "metadata": {},
   "source": [
    "# 4.3: Create a pandas dataframe using the dictionary you created above (2 marks)\n",
    "\n",
    "**Hint: Use the `pd.DataFrame.from_dict()` method**\n",
    "\n",
    "#### Sample output\n",
    "![](images/df.png)"
   ]
  },
  {
   "cell_type": "code",
   "execution_count": 23,
   "metadata": {},
   "outputs": [
    {
     "name": "stdout",
     "output_type": "stream",
     "text": [
      "              name  age      Salary\n",
      "0         Tim Cook   59   3000000.0\n",
      "1  Mark Zuckerberg   37    200000.0\n",
      "2        Elon Musk   50  10000000.0\n"
     ]
    }
   ],
   "source": [
    "import pandas as pd\n",
    "### Your solution here\n",
    "people = {'name':['Tim Cook','Mark Zuckerberg','Elon Musk'],'age':[59,37,50],'Salary': [3000000.0,200000.0,10000000.0]}\n",
    "out= pd.DataFrame.from_dict(people)\n",
    "print(out)"
   ]
  },
  {
   "cell_type": "markdown",
   "metadata": {},
   "source": [
    "### 4.4: Rename all three columns of the dataframe (4 mark)\n",
    "\n",
    "*Hint: you should use the pandas function [rename()](https://pandas.pydata.org/pandas-docs/stable/reference/api/pandas.DataFrame.rename.html) to accomplish this. You can rename it to whatever you like, just show us you are able to use this function*\n"
   ]
  },
  {
   "cell_type": "code",
   "execution_count": 26,
   "metadata": {},
   "outputs": [
    {
     "name": "stdout",
     "output_type": "stream",
     "text": [
      "      Name of CEOs  Age  Hourly Income\n",
      "0         Tim Cook   59      3000000.0\n",
      "1  Mark Zuckerberg   37       200000.0\n",
      "2        Elon Musk   50     10000000.0\n"
     ]
    }
   ],
   "source": [
    "import pandas as pd\n",
    "### Your solution here\n",
    "people = {'name':['Tim Cook','Mark Zuckerberg','Elon Musk'],'age':[59,37,50],'Salary': [3000000.0,200000.0,10000000.0]}\n",
    "out= pd.DataFrame.from_dict(people)\n",
    "newout= out.rename(columns={\"name\":\"Name of CEOs\",\"age\":\"Age\",\"Salary\":\"Hourly Income\"})\n",
    "print(newout)"
   ]
  },
  {
   "cell_type": "code",
   "execution_count": null,
   "metadata": {},
   "outputs": [],
   "source": []
  }
 ],
 "metadata": {
  "interpreter": {
   "hash": "31f2aee4e71d21fbe5cf8b01ff0e069b9275f58929596ceb00d14d90e3e16cd6"
  },
  "kernelspec": {
   "display_name": "Python 3 (ipykernel)",
   "language": "python",
   "name": "python3"
  },
  "language_info": {
   "codemirror_mode": {
    "name": "ipython",
    "version": 3
   },
   "file_extension": ".py",
   "mimetype": "text/x-python",
   "name": "python",
   "nbconvert_exporter": "python",
   "pygments_lexer": "ipython3",
   "version": "3.8.5"
  },
  "nteract": {
   "version": "0.25.0"
  }
 },
 "nbformat": 4,
 "nbformat_minor": 4
}

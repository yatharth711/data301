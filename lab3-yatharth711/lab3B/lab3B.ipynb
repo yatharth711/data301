{
 "cells": [
  {
   "cell_type": "markdown",
   "metadata": {},
   "source": [
    "# Lab 3B: Data analysis with Python\n",
    "In this lab you work on applying your new Python skills to work with data - finally!\n",
    "\n",
    "This lab is a bit shorter because I wanted to make sure you have enough time to work on your projects. You'll get lots of practice with Data Analysis using your project data sets.\n",
    "\n",
    "**This lab must be completed individually.**\n",
    "\n",
    "Where provided, try your best to match the **Sample Output** as best as you can.\n",
    "\n",
    "## Accept the lab\n",
    "\n",
    "To accept this lab on GitHub Classroom, go to `Canvas` --> `Course Content` --> `Lab Links and Solutions`."
   ]
  },
  {
   "cell_type": "markdown",
   "metadata": {},
   "source": [
    "## Objectives\n",
    "\n",
    "In this lab you will:\n",
    "\n",
    "1. Practice working with data using the pandas package\n",
    "2. Practice some data wrangling mathematical operations.\n",
    "3. Practice working with the seaborn package.\n",
    "4. Practice creating data visualizations."
   ]
  },
  {
   "cell_type": "code",
   "execution_count": 1,
   "metadata": {},
   "outputs": [],
   "source": [
    "# Usually all the import statements are at the top of the file\n",
    "\n",
    "import pandas as pd\n",
    "import seaborn as sns\n",
    "import numpy as np\n",
    "import os\n",
    "import matplotlib.pyplot as plt"
   ]
  },
  {
   "cell_type": "markdown",
   "metadata": {},
   "source": [
    "## Task 1: Working with data using pandas (12 marks)\n",
    "\n",
    "In this part of the lab, we will practice loading in a sample data set using pandas, and doing some basic operations."
   ]
  },
  {
   "cell_type": "markdown",
   "metadata": {},
   "source": [
    "### 1.1: Load in the data (4 marks)\n",
    "\n",
    "There is a CSV file (`pokemon.csv`) inside a directory called `data` within the `lab3A` directory.\n",
    "\n",
    "Your task is to use the pandas [`read_csv()`](https://pandas.pydata.org/pandas-docs/stable/reference/api/pandas.read_csv.html) function to read this dataset, assign it to a dataframe called `df`, and then print its [`head`](https://pandas.pydata.org/pandas-docs/stable/reference/api/pandas.DataFrame.head.html) also known as the first 5 lines of the dataframe.\n",
    "\n",
    "*Hint: don't forget to first `import pandas as pd` to use `read_csv` and other pandas function.*"
   ]
  },
  {
   "cell_type": "code",
   "execution_count": 26,
   "metadata": {},
   "outputs": [
    {
     "name": "stdout",
     "output_type": "stream",
     "text": [
      "   #                   Name Type 1  Type 2  Total  HP  Attack  Defense  \\\n",
      "0  1              Bulbasaur  Grass  Poison    318  45      49       49   \n",
      "1  2                Ivysaur  Grass  Poison    405  60      62       63   \n",
      "2  3               Venusaur  Grass  Poison    525  80      82       83   \n",
      "3  3  VenusaurMega Venusaur  Grass  Poison    625  80     100      123   \n",
      "4  4             Charmander   Fire     NaN    309  39      52       43   \n",
      "\n",
      "   Sp. Atk  Sp. Def  Speed  Generation  Legendary  \n",
      "0       65       65     45           1      False  \n",
      "1       80       80     60           1      False  \n",
      "2      100      100     80           1      False  \n",
      "3      122      120     80           1      False  \n",
      "4       60       50     65           1      False  \n"
     ]
    }
   ],
   "source": [
    "### Your solution here\n",
    "import pandas as pd\n",
    "path = r\"C:\\\\Users\\Yatharth Mathur\\Desktop\\UBC_STUDY\\DATA301\\lab3-yatharth711\\lab3B\\data\\pokemon.csv\"\n",
    "df = pd.read_csv(path)\n",
    "print(df.head())\n"
   ]
  },
  {
   "cell_type": "markdown",
   "metadata": {},
   "source": [
    "### 1.2: How many total pokemon are there in the dataset? (2 mark)\n",
    "\n",
    "Make sure to use the `dataframe.count()` function to print the total number of entries in each column of the dataframe before you answer!"
   ]
  },
  {
   "cell_type": "code",
   "execution_count": 54,
   "metadata": {},
   "outputs": [
    {
     "name": "stdout",
     "output_type": "stream",
     "text": [
      "Name          800\n",
      "Type 1        800\n",
      "Type 2        414\n",
      "Total         800\n",
      "HP            800\n",
      "Attack        800\n",
      "Defense       800\n",
      "Sp. Atk       800\n",
      "Sp. Def       800\n",
      "Speed         800\n",
      "Generation    800\n",
      "Legendary     800\n",
      "dtype: int64\n"
     ]
    }
   ],
   "source": [
    "### Your solution here\n",
    "import pandas as pd\n",
    "path = r\"C:\\\\Users\\Yatharth Mathur\\Desktop\\UBC_STUDY\\DATA301\\lab3-yatharth711\\lab3B\\data\\pokemon.csv\"\n",
    "df = pd.read_csv(path,index_col=0)\n",
    "\n",
    "print(df.count(axis=0))\n"
   ]
  },
  {
   "cell_type": "markdown",
   "metadata": {},
   "source": [
    "### 1.3: Create a new dataframe `df2` that only includes the Pokemon from the first generation. (2 marks)\n",
    "\n",
    "*Hint: Remember that you can subset dataframes using the `[]` syntax. [More on this here](https://pandas.pydata.org/docs/getting_started/intro_tutorials/03_subset_data.html)*"
   ]
  },
  {
   "cell_type": "code",
   "execution_count": 86,
   "metadata": {},
   "outputs": [
    {
     "name": "stdout",
     "output_type": "stream",
     "text": [
      "<bound method NDFrame.head of                       Name   Type 1    Type 2  Total   HP  Attack  Defense  \\\n",
      "#                                                                            \n",
      "1                Bulbasaur    Grass    Poison    318   45      49       49   \n",
      "2                  Ivysaur    Grass    Poison    405   60      62       63   \n",
      "3                 Venusaur    Grass    Poison    525   80      82       83   \n",
      "3    VenusaurMega Venusaur    Grass    Poison    625   80     100      123   \n",
      "4               Charmander     Fire       NaN    309   39      52       43   \n",
      "..                     ...      ...       ...    ...  ...     ...      ...   \n",
      "149              Dragonite   Dragon    Flying    600   91     134       95   \n",
      "150                 Mewtwo  Psychic       NaN    680  106     110       90   \n",
      "150    MewtwoMega Mewtwo X  Psychic  Fighting    780  106     190      100   \n",
      "150    MewtwoMega Mewtwo Y  Psychic       NaN    780  106     150       70   \n",
      "151                    Mew  Psychic       NaN    600  100     100      100   \n",
      "\n",
      "     Sp. Atk  Sp. Def  Speed  Generation  Legendary  \n",
      "#                                                    \n",
      "1         65       65     45           1      False  \n",
      "2         80       80     60           1      False  \n",
      "3        100      100     80           1      False  \n",
      "3        122      120     80           1      False  \n",
      "4         60       50     65           1      False  \n",
      "..       ...      ...    ...         ...        ...  \n",
      "149      100      100     80           1      False  \n",
      "150      154       90    130           1       True  \n",
      "150      154      100    130           1       True  \n",
      "150      194      120    140           1       True  \n",
      "151      100      100    100           1      False  \n",
      "\n",
      "[166 rows x 12 columns]>\n"
     ]
    }
   ],
   "source": [
    "### Your solution here\n",
    "import pandas as pd\n",
    "path = r\"C:\\\\Users\\Yatharth Mathur\\Desktop\\UBC_STUDY\\DATA301\\lab3-yatharth711\\lab3B\\data\\pokemon.csv\"\n",
    "df = pd.read_csv(path,index_col=0)\n",
    "df2 = df[df[\"Generation\"]==1]\n",
    "print(df2.head)\n"
   ]
  },
  {
   "cell_type": "markdown",
   "metadata": {},
   "source": [
    "### 1.4: Print ONLY the mean HP, Attack, Defense, and Speed of all pokemon in the first generation using pandas functions (4 marks)"
   ]
  },
  {
   "cell_type": "code",
   "execution_count": 97,
   "metadata": {},
   "outputs": [
    {
     "name": "stdout",
     "output_type": "stream",
     "text": [
      "HP :69.25875\n",
      "Attack :79.00125\n",
      "Defense:73.8425\n",
      "Speed :#\n",
      "1       45\n",
      "2       60\n",
      "3       80\n",
      "3       80\n",
      "4       65\n",
      "      ... \n",
      "719     50\n",
      "719    110\n",
      "720     70\n",
      "720     80\n",
      "721     70\n",
      "Name: Speed, Length: 800, dtype: int64\n"
     ]
    }
   ],
   "source": [
    "### Your solution here\n",
    "import pandas as pd\n",
    "path = r\"C:\\\\Users\\Yatharth Mathur\\Desktop\\UBC_STUDY\\DATA301\\lab3-yatharth711\\lab3B\\data\\pokemon.csv\"\n",
    "df = pd.read_csv(path,index_col=0)\n",
    "df3 = df[[\"HP\",\"Attack\",\"Defense\",\"Speed\"]]\n",
    "hp = df[\"HP\"].mean()\n",
    "atk = df[\"Attack\"].mean()\n",
    "defense = df[\"Defense\"].mean()\n",
    "speed = df[\"Speed\"]\n",
    "print(f'HP :{hp}')\n",
    "print(f'Attack :{atk}')\n",
    "print(f'Defense:{defense}')\n",
    "print(f'Speed :{speed}')\n",
    "\n"
   ]
  },
  {
   "cell_type": "markdown",
   "metadata": {},
   "source": [
    "## Task 2. Plotting using Seaborn (and matplotlib) (Total: 16 marks)\n",
    "\n",
    "`matplotlib` is a Python library for data visualization. \n",
    "`seaborn` is a statistical data visualization library layer that provides a high-level interface for drawing statistical graphics and some convenient functions for plotting data frames.\n",
    "\n",
    "You may need to install `seaborn` and `matplotlib`\n",
    "\n",
    "`conda install seaborn`<br>\n",
    "`conda install matplotlib`\n",
    "\n",
    "and just in case it's not the latest version, go ahead and update it:\n",
    "\n",
    "`conda update matplotlib`<br>\n",
    "`conda update seaborn`\n",
    "\n"
   ]
  },
  {
   "cell_type": "code",
   "execution_count": 2,
   "metadata": {},
   "outputs": [],
   "source": [
    "# Themes and colours in Seaborn\n",
    "\n",
    "# There are five preset seaborn themes: darkgrid, whitegrid, dark, white, and ticks. \n",
    "# They are each suited to different applications and personal preferences.\n",
    "# You can see what they look like [here](https://seaborn.pydata.org/tutorial/aesthetics.html#seaborn-figure-styles)\n",
    "\n",
    "# Just for fun, we're going to set the theme to be a nice one:\n",
    "sns.set_theme(style=\"ticks\",\n",
    "              font_scale=1.3, # This scales the fonts slightly higher\n",
    "             )\n",
    "# And we're going to remove the top and right axis lines\n",
    "plt.rc(\"axes.spines\", top=False, right=False)"
   ]
  },
  {
   "cell_type": "markdown",
   "metadata": {},
   "source": [
    "### 2.1: Load data (1 mark)\n",
    "\n",
    "Without downloading the csv file to your repo, load the \"*BCCDC_COVID19.csv*\" file using the direct URL: \"[BCCDC_COVID19_Dashboard_Case_Details.csv](http://www.bccdc.ca/Health-Info-Site/Documents/BCCDC_COVID19_Dashboard_Case_Details.csv)\".\n",
    "\n",
    "**DO NOT DOWNLOAD THE DATA TO YOUR REPOSITORY!**\n",
    "\n",
    "Use `pandas` module/package and the `read_csv()` function to load the data by passing in the URL and then save the data in a variable called `df`."
   ]
  },
  {
   "cell_type": "code",
   "execution_count": 103,
   "metadata": {},
   "outputs": [
    {
     "name": "stdout",
     "output_type": "stream",
     "text": [
      "                              HA Sex Age_Group Classification_Reported\n",
      "Reported_Date                                                         \n",
      "2020-01-29         Out of Canada   M     40-49           Lab-diagnosed\n",
      "2020-02-06     Vancouver Coastal   F     50-59           Lab-diagnosed\n",
      "2020-02-10         Out of Canada   F     20-29           Lab-diagnosed\n",
      "2020-02-10         Out of Canada   M     30-39           Lab-diagnosed\n",
      "2020-02-18              Interior   F     30-39           Lab-diagnosed\n"
     ]
    }
   ],
   "source": [
    "# Your Solution here\n",
    "path = r\"C:\\Users\\Yatharth Mathur\\Documents\\BCCDC_COVID19_Dashboard_Case_Details.csv\"\n",
    "df = pd.read_csv(path,index_col=0)\n"
   ]
  },
  {
   "cell_type": "markdown",
   "metadata": {},
   "source": [
    "### 2.2: Counts of cases by Sex (2 marks)\n",
    "Using [`sns.countplot()`](https://seaborn.pydata.org/generated/seaborn.countplot.html?highlight=countplot#seaborn.countplot), plot the number of all female and male cases. \n",
    "\n",
    "Set the title to be \"Number of COVID-19 cases by Sex\". \n",
    "\n",
    "*Hint: The documentation above contains some examples that might help you get started*\n",
    "#### Sample output\n",
    "<img src=\"./images/bar1.png\" width=\"400px\" />"
   ]
  },
  {
   "cell_type": "code",
   "execution_count": 119,
   "metadata": {},
   "outputs": [
    {
     "data": {
      "image/png": "[encoded data removed]",
      "text/plain": [
       "<Figure size 432x288 with 1 Axes>"
      ]
     },
     "metadata": {},
     "output_type": "display_data"
    }
   ],
   "source": [
    "# Your Solution here\n",
    "import matplotlib.pyplot as plt\n",
    "import seaborn as sns\n",
    "\n",
    "path = r\"C:\\Users\\Yatharth Mathur\\Documents\\BCCDC_COVID19_Dashboard_Case_Details.csv\"\n",
    "df = pd.read_csv(path,index_col=0)\n",
    "sns.set_theme(style=\"darkgrid\")\n",
    "plt.rc(\"axes.spines\", top=True, right=True)\n",
    "sns.set_theme(style=\"ticks\",\n",
    "              font_scale=1.3, # This scales the fonts slightly higher\n",
    "             )\n",
    "sns.countplot(y='Sex',data=df)\n",
    "plt.show()"
   ]
  },
  {
   "cell_type": "markdown",
   "metadata": {},
   "source": [
    "### 2.3: Counts of cases by Age Group (2 marks)\n",
    "\n",
    "Plot the counts of cases by age group, and order the y-axis by increasing age (use the `order` parameter of the `countplot()` function).\n",
    "\n",
    "<img src=\"images/bar_age.png\" width=\"400px\">"
   ]
  },
  {
   "cell_type": "code",
   "execution_count": 128,
   "metadata": {},
   "outputs": [
    {
     "data": {
      "image/png": "[encoded data removed]",
      "text/plain": [
       "<Figure size 432x288 with 1 Axes>"
      ]
     },
     "metadata": {},
     "output_type": "display_data"
    }
   ],
   "source": [
    "# Your Solution here\n",
    "import matplotlib.pyplot as plt\n",
    "import seaborn as sns\n",
    "\n",
    "path = r\"C:\\Users\\Yatharth Mathur\\Documents\\BCCDC_COVID19_Dashboard_Case_Details.csv\"\n",
    "df = pd.read_csv(path,index_col=0)\n",
    "sns.set_theme(style=\"darkgrid\")\n",
    "plt.rc(\"axes.spines\", top=True, right=True)\n",
    "sns.set_theme(style=\"ticks\",\n",
    "              font_scale=1.3, # This scales the fonts slightly higher\n",
    "             )\n",
    "\n",
    "sns.countplot(y='Age_Group',order=['<10','10-19','20-29','30-39','40-49','50-59','60-69','70-79','80-89','90+'],data=df)\n",
    "plt.show()"
   ]
  },
  {
   "cell_type": "markdown",
   "metadata": {},
   "source": [
    "### 2.4: Cases by regional health authority (3 marks)\n",
    "\n",
    "Using `set()` data type, find the all the different regions in `df['HA']`. In the next step, calculate the count of all cases in each of those regions. Finally, using [`plt.barh`](https://matplotlib.org/3.1.1/api/_as_gen/matplotlib.pyplot.barh.html), plot a horizontal bar chart of number of cases based on their regions.\n",
    "\n",
    "*Hint: More information and examples can be find in [link](https://www.geeksforgeeks.org/matplotlib-axes-axes-barh-in-python/)*\n",
    "\n",
    "*Hint: Your plot doesn't have to look exactly like this, but please do explore the [possible color palettes](https://seaborn.pydata.org/tutorial/color_palettes.html). You can specify the colour palette by passing in the keyword like this: `palette='colorblind'`.*\n",
    "\n",
    "#### Sample output\n",
    "<img src=\"images/hbar.png\" width=\"400px\" />"
   ]
  },
  {
   "cell_type": "code",
   "execution_count": 133,
   "metadata": {},
   "outputs": [
    {
     "data": {
      "image/png": "[encoded data removed]",
      "text/plain": [
       "<Figure size 432x288 with 1 Axes>"
      ]
     },
     "metadata": {},
     "output_type": "display_data"
    }
   ],
   "source": [
    "# Your Solution here\n",
    "import matplotlib.pyplot as plt\n",
    "import seaborn as sns\n",
    "\n",
    "path = r\"C:\\Users\\Yatharth Mathur\\Documents\\BCCDC_COVID19_Dashboard_Case_Details.csv\"\n",
    "df = pd.read_csv(path,index_col=0)\n",
    "sns.set_theme(style=\"darkgrid\")\n",
    "plt.rc(\"axes.spines\", top=True, right=True)\n",
    "sns.set_theme(style=\"ticks\",\n",
    "              font_scale=1.3, # This scales the fonts slightly higher\n",
    "             )\n",
    "\n",
    "sns.countplot(y='HA',hue = 'Sex',data=df,palette='colorblind')\n",
    "plt.show()"
   ]
  },
  {
   "cell_type": "markdown",
   "metadata": {},
   "source": [
    "### 2.5: Data Wrangling I (2 marks)\n",
    "\n",
    "**Task: Add a new column to the dataframe to convert the \"Reported_Date\" column to a datetime object**\n",
    "\n",
    "To do this, first we need to add a new column to our dataset to turn the column \"Reported_Date\" into a proper datetime object so we can do operations on it.\n",
    "\n",
    "*Hint: Use to [to_datetime()](https://pandas.pydata.org/pandas-docs/stable/reference/api/pandas.to_datetime.html) function to help you first convert it into a datetime object, and then remove the timezone information and HH:MM:SS using [`.dt.date`](https://pandas.pydata.org/pandas-docs/stable/reference/api/pandas.Series.dt.date.html).*"
   ]
  },
  {
   "cell_type": "code",
   "execution_count": 1,
   "metadata": {},
   "outputs": [
    {
     "name": "stdout",
     "output_type": "stream",
     "text": [
      "  Reported_Date                 HA Sex Age_Group Classification_Reported  \\\n",
      "0    29-01-2020      Out of Canada   M     40-49           Lab-diagnosed   \n",
      "1    06-02-2020  Vancouver Coastal   F     50-59           Lab-diagnosed   \n",
      "2    10-02-2020      Out of Canada   F     20-29           Lab-diagnosed   \n",
      "3    10-02-2020      Out of Canada   M     30-39           Lab-diagnosed   \n",
      "4    18-02-2020           Interior   F     30-39           Lab-diagnosed   \n",
      "\n",
      "    New Date  \n",
      "0 2020-01-29  \n",
      "1 2020-06-02  \n",
      "2 2020-10-02  \n",
      "3 2020-10-02  \n",
      "4 2020-02-18  \n"
     ]
    }
   ],
   "source": [
    "# Your Solution here\n",
    "import pandas as pd\n",
    "import matplotlib.pyplot as plt\n",
    "import seaborn as sns\n",
    "\n",
    "\n",
    "path = r\"C:\\Users\\Yatharth Mathur\\Documents\\BCCDC_COVID19_Dashboard_Case_Details.csv\"\n",
    "df = pd.read_csv(path)\n",
    "\n",
    "df[\"New Date\"]=pd.to_datetime(df[\"Reported_Date\"])\n",
    "print(df.head())\n"
   ]
  },
  {
   "cell_type": "markdown",
   "metadata": {},
   "source": [
    "### 2.6: Data Wrangling II (1 mark)\n",
    "\n",
    "**Task: Find the earliest reported case and the latest reported case of COVID-19 in the dataset**\n",
    "\n",
    "You should use the pandas .min() and .max() functions here, now that your date string is converted to a DateTime object.\n",
    "\n",
    "#### Sample Output\n",
    "\n",
    "> The earliest reported case of COVID-19 was: 2020-01-26 <br>\n",
    "> The latest reported case of COVID-19 was: 2020-10-23 <br>"
   ]
  },
  {
   "cell_type": "code",
   "execution_count": 48,
   "metadata": {},
   "outputs": [
    {
     "name": "stdout",
     "output_type": "stream",
     "text": [
      "The earliest reported case of COVID-19 was: 2020-01-04 00:00:00\n",
      "The latest reported case of COVID-19 was: 2021-12-07 00:00:00\n"
     ]
    }
   ],
   "source": [
    "# Your Solution here\n",
    "import pandas as pd\n",
    "import matplotlib.pyplot as plt\n",
    "import seaborn as sns\n",
    "\n",
    "\n",
    "path = r\"C:\\Users\\Yatharth Mathur\\Documents\\BCCDC_COVID19_Dashboard_Case_Details.csv\"\n",
    "df = pd.read_csv(path)\n",
    "df[\"New Date\"]=pd.to_datetime(df[\"Reported_Date\"])\n",
    "earliest = min(df['New Date'])\n",
    "latest = max(df['New Date'])\n",
    "print(f'The earliest reported case of COVID-19 was: {earliest}')\n",
    "print(f'The latest reported case of COVID-19 was: {latest}')"
   ]
  },
  {
   "cell_type": "markdown",
   "metadata": {},
   "source": [
    "### 2.7: Data Wrangling III (2 marks)\n",
    "\n",
    "**Task: Create a new column in the data frame called \"days_since\".**\n",
    "\n",
    "This column will be of type integer, and will simply show the days since the first reported case of COVID-19.\n",
    "\n",
    "*Hint: Subtracting the earliest reported date from the `Reported_Date_Object` column will get you most of the way there. After that, the only thing left to is to turn the result (a datetime object) into an integer using [`.dt.days`](https://pandas.pydata.org/pandas-docs/stable/reference/api/pandas.Series.dt.days.html?highlight=dt.days#pandas.Series.dt.days).*"
   ]
  },
  {
   "cell_type": "code",
   "execution_count": 46,
   "metadata": {},
   "outputs": [
    {
     "name": "stdout",
     "output_type": "stream",
     "text": [
      "  Reported_Date                 HA Sex Age_Group Classification_Reported  \\\n",
      "0    29-01-2020      Out of Canada   M     40-49           Lab-diagnosed   \n",
      "1    06-02-2020  Vancouver Coastal   F     50-59           Lab-diagnosed   \n",
      "2    10-02-2020      Out of Canada   F     20-29           Lab-diagnosed   \n",
      "3    10-02-2020      Out of Canada   M     30-39           Lab-diagnosed   \n",
      "4    18-02-2020           Interior   F     30-39           Lab-diagnosed   \n",
      "\n",
      "    New Date  Days_Since  \n",
      "0 2020-01-29          25  \n",
      "1 2020-06-02         150  \n",
      "2 2020-10-02         272  \n",
      "3 2020-10-02         272  \n",
      "4 2020-02-18          45  \n"
     ]
    }
   ],
   "source": [
    "# Your Solution here\n",
    "import pandas as pd\n",
    "import matplotlib.pyplot as plt\n",
    "import seaborn as sns\n",
    "\n",
    "\n",
    "path = r\"C:\\Users\\Yatharth Mathur\\Documents\\BCCDC_COVID19_Dashboard_Case_Details.csv\"\n",
    "df = pd.read_csv(path)\n",
    "df[\"New Date\"]=pd.to_datetime(df[\"Reported_Date\"])\n",
    "earliest = min(df['New Date'])\n",
    "latest = max(df['New Date'])\n",
    "df[\"Days_Since\"]=( df[\"New Date\"]- earliest).dt.days\n",
    "\n",
    "print(df.head())"
   ]
  },
  {
   "cell_type": "markdown",
   "metadata": {},
   "source": [
    "### 2.8: Plot the COVID-19 cases plotted over time by sex (3 mark)\n",
    "\n",
    "Using `sns.displot`, plot the histogram of females and males cases over time.\n",
    "\n",
    "*Hint 1: [Here is a nice tutorial](https://seaborn.pydata.org/tutorial/distributions.html) of all the different options that are possible when creating a histogram.*\n",
    "\n",
    "#### Sample output\n",
    "<img src=\"images/hist.png\" width=\"600px\">"
   ]
  },
  {
   "cell_type": "code",
   "execution_count": 45,
   "metadata": {},
   "outputs": [
    {
     "data": {
      "text/plain": [
       "<seaborn.axisgrid.FacetGrid at 0x1ef50b349a0>"
      ]
     },
     "execution_count": 45,
     "metadata": {},
     "output_type": "execute_result"
    },
    {
     "data": {
      "image/png": "[encoded data removed]",
      "text/plain": [
       "<Figure size 404.625x360 with 1 Axes>"
      ]
     },
     "metadata": {
      "needs_background": "light"
     },
     "output_type": "display_data"
    }
   ],
   "source": [
    "# Your Solution here\n",
    "import pandas as pd\n",
    "import matplotlib.pyplot as plt\n",
    "import seaborn as sns\n",
    "\n",
    "\n",
    "path = r\"C:\\Users\\Yatharth Mathur\\Documents\\BCCDC_COVID19_Dashboard_Case_Details.csv\"\n",
    "df = pd.read_csv(path)\n",
    "df[\"New Date\"]=pd.to_datetime(df[\"Reported_Date\"])\n",
    "earliest = min(df['New Date'])\n",
    "latest = max(df['New Date'])\n",
    "df[\"Days_Since\"]=( df[\"New Date\"]- earliest).dt.days\n",
    "\n",
    "sns.displot(df,x=\"Days_Since\",hue=\"Sex\",multiple=\"dodge\")\n"
   ]
  },
  {
   "cell_type": "markdown",
   "metadata": {},
   "source": [
    "### 2.9: BONUS - For a bonus mark, move the legend to the top left of the plot (1 mark)\n",
    "\n",
    "*Remember, the maximum mark you can get on a lab is 100% and bonus marks cannot be \"moved\" to different assignments\"*"
   ]
  },
  {
   "cell_type": "code",
   "execution_count": null,
   "metadata": {},
   "outputs": [],
   "source": [
    "# Your Solution here"
   ]
  },
  {
   "cell_type": "markdown",
   "metadata": {},
   "source": [
    "### 2.10: BONUS - For a bonus mark, order the Health authorities on the y-axis (1 mark)\n",
    "\n",
    "You can order it by some metric (either alphabetically, or by total counts, or some other sensible metric).\n",
    "\n",
    "*Remember, the maximum mark you can get on a lab is 100% and bonus marks cannot be \"moved\" to different assignments\"*"
   ]
  },
  {
   "cell_type": "markdown",
   "metadata": {},
   "source": []
  }
 ],
 "metadata": {
  "kernelspec": {
   "display_name": "Python 3 (ipykernel)",
   "language": "python",
   "name": "python3"
  },
  "language_info": {
   "codemirror_mode": {
    "name": "ipython",
    "version": 3
   },
   "file_extension": ".py",
   "mimetype": "text/x-python",
   "name": "python",
   "nbconvert_exporter": "python",
   "pygments_lexer": "ipython3",
   "version": "3.8.5"
  }
 },
 "nbformat": 4,
 "nbformat_minor": 4
}

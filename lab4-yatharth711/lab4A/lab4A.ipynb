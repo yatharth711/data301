{
 "cells": [
  {
   "cell_type": "markdown",
   "metadata": {},
   "source": [
    "# Lab 4A"
   ]
  },
  {
   "cell_type": "code",
   "execution_count": 2,
   "metadata": {},
   "outputs": [],
   "source": [
    "import pandas as pd\n",
    "import numpy as np\n",
    "import matplotlib.pyplot as plt"
   ]
  },
  {
   "cell_type": "markdown",
   "metadata": {},
   "source": [
    "## Task 1: Join/Merge three datasets together\n",
    "\n",
    "Your task is to take three separate datasets (`grades1a.csv`, `grades1b.csv`, `grades1c.csv`) and merge them together.\n",
    "You may find the [documentation](https://pandas.pydata.org/pandas-docs/stable/user_guide/merging.html) helpful as it contains some visualizations to help you understand the different merges and joins that are possible.\n",
    "\n",
    "**Note: In your Explainer Video, remember to explain your code in detail. Explain not just what you did, but also why you did it that way.**\n",
    "\n",
    "The final dataset should look like this:\n",
    "\n",
    "### Sample Output\n",
    "\n",
    "```\n",
    "final_df\n",
    "```\n",
    "\n",
    "|    | Name             |   Student ID |   Chemistry |   Physics |   Math |\n",
    "|---:|:-----------------|-------------:|------------:|----------:|-------:|\n",
    "|  0 | Lila Oni         |        12001 |          59 |        90 |     45 |\n",
    "|  1 | Amina Chimwala   |        12002 |          54 |        42 |     85 |\n",
    "|  2 | Neda Makena      |        12003 |          42 |        88 |     54 |\n",
    "|  3 | Shanthi Catrina  |        12004 |          66 |        48 |     64 |\n",
    "|  4 | Deirbhile Bhavna |        12005 |          60 |        80 |     72 |\n",
    "|  5 | Ige Aifric       |        12006 |          78 |        73 |     64 |\n",
    "|  6 | Firouzeh Rudo    |        12007 |          64 |        43 |     67 |\n",
    "|  7 | Desta Jahanara   |        12008 |          82 |        69 |     70 |\n",
    "|  8 | Taiwo Sona       |        12009 |          63 |        54 |     80 |\n",
    "|  9 | Fíona Finnguala  |        12010 |          41 |        52 |     70 |\n"
   ]
  },
  {
   "cell_type": "code",
   "execution_count": 24,
   "metadata": {},
   "outputs": [
    {
     "name": "stdout",
     "output_type": "stream",
     "text": [
      "               Name  Student ID  Physics  Math  Chemistry\n",
      "0          Lila Oni       12001     90.0  45.0        NaN\n",
      "1    Amina Chimwala       12002     42.0  85.0        NaN\n",
      "2       Neda Makena       12003     88.0  54.0        NaN\n",
      "3   Shanthi Catrina       12004     48.0  64.0        NaN\n",
      "4  Deirbhile Bhavna       12005     80.0  72.0        NaN\n",
      "5        Ige Aifric       12006     73.0  64.0        NaN\n",
      "6     Firouzeh Rudo       12007     43.0  67.0        NaN\n",
      "7    Desta Jahanara       12008     69.0  70.0        NaN\n",
      "8        Taiwo Sona       12009     54.0  80.0        NaN\n",
      "9   Fíona Finnguala       12010     52.0  70.0        NaN\n"
     ]
    }
   ],
   "source": [
    "# Your Answer Here\n",
    "import pandas as pd\n",
    "\n",
    "path1 = r\"./data/grades1a.csv\"\n",
    "path2 = r\"./data/grades1b.csv\"\n",
    "path3 = r\"./data/grades1c.csv\"\n",
    "df1 = pd.read_csv(path1)\n",
    "df2 = pd.read_csv(path2)\n",
    "df3 = pd.read_csv(path3)\n",
    "\n",
    "final_df = [df1,df2,df3]\n",
    "result = pd.concat(final_df)\n",
    "print(result.head(10))"
   ]
  },
  {
   "cell_type": "markdown",
   "metadata": {},
   "source": [
    "## Task 2: Combine two datasets with different keys\n",
    "\n",
    "Your task is to merge two datasets together on the \"Student ID\" column in `grades2a.csv` and the \"SID\" column in the file `grades2b.csv`.\n",
    "\n",
    "You can do this any way you like that matches the Sample Output (there are multiple ways of doing it) but please explain how you did it (and why).\n",
    "\n",
    "### Sample Output\n",
    "\n",
    "|    | Name             |   Student ID |   Chemistry |   Physics |   Math |\n",
    "|---:|:-----------------|-------------:|------------:|----------:|-------:|\n",
    "|  0 | Lila Oni         |        12001 |          59 |        90 |     45 |\n",
    "|  1 | Amina Chimwala   |        12002 |          54 |        42 |     85 |\n",
    "|  2 | Neda Makena      |        12003 |          42 |        88 |     54 |\n",
    "|  3 | Shanthi Catrina  |        12004 |          66 |        48 |     64 |\n",
    "|  4 | Deirbhile Bhavna |        12005 |          60 |        80 |     72 |\n",
    "|  5 | Ige Aifric       |        12006 |          78 |        73 |     64 |\n",
    "|  6 | Firouzeh Rudo    |        12007 |          64 |        43 |     67 |\n",
    "|  7 | Desta Jahanara   |        12008 |          82 |        69 |     70 |\n",
    "|  8 | Taiwo Sona       |        12009 |          63 |        54 |     80 |\n",
    "|  9 | Fíona Finnguala  |        12010 |          41 |        52 |     70 |"
   ]
  },
  {
   "cell_type": "code",
   "execution_count": 25,
   "metadata": {},
   "outputs": [
    {
     "name": "stdout",
     "output_type": "stream",
     "text": [
      "   Chemistry  Math              Name  Physics  Student ID\n",
      "0         59    45          Lila Oni       90       12001\n",
      "1         54    85    Amina Chimwala       42       12002\n",
      "2         42    54       Neda Makena       88       12003\n",
      "3         66    64   Shanthi Catrina       48       12004\n",
      "4         60    72  Deirbhile Bhavna       80       12005\n",
      "5         78    64        Ige Aifric       73       12006\n",
      "0         66    64   Shanthi Catrina       48       12004\n",
      "1         60    72  Deirbhile Bhavna       80       12005\n",
      "2         78    64        Ige Aifric       73       12006\n",
      "3         64    67     Firouzeh Rudo       43       12007\n"
     ]
    }
   ],
   "source": [
    "# Your Answer Here\n",
    "import pandas as pd\n",
    "\n",
    "path1 = r\"./data/grades2a.csv\"\n",
    "path2 = r\"./data/grades2b.csv\"\n",
    "df1 = pd.read_csv(path1)\n",
    "df2 = pd.read_csv(path2)\n",
    "\n",
    "final_df = [df1,df2]\n",
    "result = df1.append(df2,sort = True)\n",
    "\n",
    "print(result.head(10))\n"
   ]
  },
  {
   "cell_type": "markdown",
   "metadata": {},
   "source": [
    "## Task 3: Merge dataframes and keep only overlapping rows\n",
    "\n",
    "Often it is useful to try a bunch of different merge operations on a dataset to identify what parts of the data overlap, and what parts are disparate.\n",
    "With the overlapping rows, you can then look at the value from the left, and the value from the right to compare them to see if there is any ambiguity if you chose to merge the dataframes.\n",
    "\n",
    "In this question, you will use the same data as in Task 2 (`grades2a.csv` and `grades2b.csv`) and try to identify which rows are duplicates, or appear in both datasets.\n",
    "\n",
    "**Restriction: For this Task, you CANNOT rename columns.**\n",
    "\n",
    "## Sample Output\n",
    "\n",
    "|    | Name_x           |   Student ID |   Chemistry_x |   Physics_x |   Math_x | Name_y           |   SID |   Chemistry_y |   Physics_y |   Math_y |\n",
    "|---:|:-----------------|-------------:|--------------:|------------:|---------:|:-----------------|------:|--------------:|------------:|---------:|\n",
    "|  0 | Shanthi Catrina  |        12004 |            66 |          48 |       64 | Shanthi Catrina  | 12004 |            66 |          48 |       64 |\n",
    "|  1 | Deirbhile Bhavna |        12005 |            60 |          80 |       72 | Deirbhile Bhavna | 12005 |            60 |          80 |       72 |\n",
    "|  2 | Ige Aifric       |        12006 |            78 |          73 |       64 | Ige Aifric       | 12006 |            78 |          73 |       64 |"
   ]
  },
  {
   "cell_type": "code",
   "execution_count": 15,
   "metadata": {},
   "outputs": [
    {
     "name": "stdout",
     "output_type": "stream",
     "text": [
      "               Name  Student ID  Chemistry_x  Physics_x  Math_x    SID  \\\n",
      "0   Shanthi Catrina       12004           66         48      64  12004   \n",
      "1  Deirbhile Bhavna       12005           60         80      72  12005   \n",
      "2        Ige Aifric       12006           78         73      64  12006   \n",
      "\n",
      "   Chemistry_y  Physics_y  Math_y  \n",
      "0           66         48      64  \n",
      "1           60         80      72  \n",
      "2           78         73      64  \n"
     ]
    }
   ],
   "source": [
    "# Your Answer Here\n",
    "import pandas as pd\n",
    "\n",
    "path1 = r\"./data/grades2a.csv\"\n",
    "path2 = r\"./data/grades2b.csv\"\n",
    "df1 = pd.read_csv(path1)\n",
    "df2 = pd.read_csv(path2)\n",
    "\n",
    "\n",
    "result = pd.merge(df1,df2,on ='Name',suffixes = ['_x','_y'])\n",
    "\n",
    "print(result)\n"
   ]
  },
  {
   "cell_type": "markdown",
   "metadata": {},
   "source": [
    "## Task 4: Explain the different merge types\n",
    "\n",
    "### Task 4.1 - Table\n",
    "\n",
    "The first part of this question is to fill out a table in words. For each merge type, write a sentence or two to explain each merge type. \n",
    "\n",
    "### Task 4.2 - Visualization\n",
    "\n",
    "The second part of this question is to find (with citation) or create a diagram to explain the merge types visually."
   ]
  },
  {
   "cell_type": "markdown",
   "metadata": {},
   "source": [
    "### Task 4.1 - Table\n",
    "\n",
    "| Merge Type | Explanation |\n",
    "| ---------- | ----------- |\n",
    "| Left join  | is a type of merging operation where the rows are placed in the left dataframe,and it adds empty/NaN values in the result |\n",
    "| Right join | is a type of merging operation where the rows are placed on the right dataframe, and it adds empty/NaN values too in the result |\n",
    "| Outer join | is a type of merging which allows full returns all the rows from left and right dataframes,similiar to the example we did above, and matches up rows wherever possible, it alos fills NaN on empty values |\n",
    "| Inner join | is a type of merging which allows Panda's default merge and only allow values which exist on both left and rights of the dataframe|\n",
    "| Cross join | is  type of join which tends to return matching datas in rows and and records |"
   ]
  },
  {
   "attachments": {
    "join-types-merge-names.jpg": {
     "image/jpeg": "[encoded data removed]"
    }
   },
   "cell_type": "markdown",
   "metadata": {},
   "source": [
    "### Task 4.2 - Visualization\n",
    "\n",
    "Find (or create/sketch) a visualization/graphic/picture that makes sense to you on the different types of join, and explain it (in words) so you can crystallize your understanding of the merge types and how they work practically.\n",
    "\n",
    "![join-types-merge-names.jpg](attachment:join-types-merge-names.jpg)\n",
    "\n",
    "**(Merge/Join types as used in Pandas, R, SQL, and other data-orientated languages and libraries.) Source:Stack Overflow**\n",
    "\n",
    "\n",
    "**Note: Please clearly cite and reference any graphic with a link and some text that you choose to use from external sources.**"
   ]
  },
  {
   "cell_type": "code",
   "execution_count": null,
   "metadata": {},
   "outputs": [],
   "source": [
    "# Lynn, Shane. “Merge and Join DataFrames with Pandas in Python.” Shane Lynn, 2018, www.shanelynn.ie/merge-join-dataframes-python-pandas-index-1/. \n",
    "# “SQL Tutorial.” SQL Left Join Keyword, www.w3schools.com/sql/sql_join_left.asp. \n",
    "# “Merge/Join Types as Used in Pandas, R, SQL, and Other Data-Orientated Languages and Libraries.” Stack Overflow, Stack Overflow, stackoverflow.com/questions/38549/what-is-the-difference-between-inner-join-and-outer-join. "
   ]
  },
  {
   "cell_type": "markdown",
   "metadata": {},
   "source": [
    "That's it, nice work!"
   ]
  }
 ],
 "metadata": {
  "kernelspec": {
   "display_name": "Python 3 (ipykernel)",
   "language": "python",
   "name": "python3"
  },
  "language_info": {
   "codemirror_mode": {
    "name": "ipython",
    "version": 3
   },
   "file_extension": ".py",
   "mimetype": "text/x-python",
   "name": "python",
   "nbconvert_exporter": "python",
   "pygments_lexer": "ipython3",
   "version": "3.8.5"
  },
  "nteract": {
   "version": "0.28.0"
  }
 },
 "nbformat": 4,
 "nbformat_minor": 4
}

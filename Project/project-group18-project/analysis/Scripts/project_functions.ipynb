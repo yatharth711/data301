{
 "cells": [
  {
   "cell_type": "code",
   "execution_count": 1,
   "id": "b2c5b749",
   "metadata": {},
   "outputs": [],
   "source": [
    "import pandas as pd\n",
    "import numpy as np\n",
    "import matplotlib.pyplot as plt\n",
    "import seaborn as sns\n"
   ]
  },
  {
   "cell_type": "code",
   "execution_count": 4,
   "id": "8e5e3590",
   "metadata": {},
   "outputs": [],
   "source": [
    "# Creating Function and method Chaining\n",
    "#path = r\"./data/processed/worldometers_snapshots_April18_to_September20.csv\"\n",
    "def load_and_process(path):\n",
    "    \n",
    "    df1= (\n",
    "    pd.read_csv(path)\n",
    "    .dropna()   \n",
    "    .sort_values(\"Date\",ascending=True)\n",
    "    )\n",
    "    \n",
    "    df2 = (\n",
    "        df1\n",
    "        .drop(\"Active_Cases\",axis=1,inplace=True)\n",
    "        .drop(\"Serious_or_Critical\",axis=1,inplace=True)\n",
    "        .drop(\"Total_Tests\",axis=1,inplace=True)\n",
    "        .assign(Percentage_Positive_Population=df[\"Total_Cases\"]/df[\"Population\"] *100)\n",
    "        \n",
    "    )\n",
    "    return df2"
   ]
  },
  {
   "cell_type": "code",
   "execution_count": null,
   "id": "1a7207a2",
   "metadata": {},
   "outputs": [],
   "source": []
  },
  {
   "cell_type": "code",
   "execution_count": null,
   "id": "6f261ef5",
   "metadata": {},
   "outputs": [],
   "source": []
  }
 ],
 "metadata": {
  "kernelspec": {
   "display_name": "Python 3 (ipykernel)",
   "language": "python",
   "name": "python3"
  },
  "language_info": {
   "codemirror_mode": {
    "name": "ipython",
    "version": 3
   },
   "file_extension": ".py",
   "mimetype": "text/x-python",
   "name": "python",
   "nbconvert_exporter": "python",
   "pygments_lexer": "ipython3",
   "version": "3.8.5"
  }
 },
 "nbformat": 4,
 "nbformat_minor": 5
}

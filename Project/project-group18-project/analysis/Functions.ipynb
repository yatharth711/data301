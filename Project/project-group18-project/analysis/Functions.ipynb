{
 "cells": [
  {
   "cell_type": "markdown",
   "id": "84cffcf1-ee50-4018-8a62-9ab78e0368aa",
   "metadata": {},
   "source": [
    "# Method Chains\n",
    "\n",
    "Below are the functions we created to perform the analysis"
   ]
  },
  {
   "cell_type": "code",
   "execution_count": null,
   "id": "a7a38dc3-6432-427a-b116-dca61d2a2cb2",
   "metadata": {},
   "outputs": [],
   "source": [
    "def load_and_process(path):\n",
    "    # Method Chain 1 (Load data and deal with missing data)    \n",
    "\n",
    "    df1 = (\n",
    "        pd.read_csv(path)\n",
    "        .sort_values(\"Date\", ascending=True)\n",
    "        .dropna()\n",
    "       .assign(Percentage_Positive_Population=df[\"Total_Cases\"] / df[\"Population\"] * 100)\n",
    "       \n",
    "    )\n",
    "    \n",
    "    df2 = (\n",
    "        df1\n",
    "        df.drop(\"Active_Cases\",axis=1,inplace=True)\n",
    "        df.drop(\"Serious_or_Critical\",axis=1,inplace=True)\n",
    "        df.drop(\"Total_Tests\",axis=1,inplace=True)\n",
    "    \n",
    "    )\n",
    "    \n",
    "\n",
    "    # Make sure to return the latest dataframe\n",
    "\n",
    "    return df1\n",
    "\n",
    "def getDailyCases(df):\n",
    "    dc = [0]\n",
    "    tc = list(df[\"Total_Cases\"])\n",
    "    i = 0\n",
    "    while (i < len(tc)):\n",
    "        try:\n",
    "            change = (int(tc[i+1] - tc[i]))\n",
    "            dc.append(change)\n",
    "            i+=1\n",
    "        except:\n",
    "            break\n",
    "    df[\"New Cases\"] = dc\n",
    "    return df\n",
    "\n",
    "def getDailyDeaths(df):\n",
    "    dd = [0]\n",
    "    td = list(df[\"Total_Deaths\"])\n",
    "    i = 0\n",
    "    while (i < len(td)):\n",
    "        try:\n",
    "            change = (int(td[i+1] - td[i]))\n",
    "            dd.append(change)\n",
    "            i+=1\n",
    "        except:\n",
    "            break\n",
    "    df[\"New Deaths\"] = dd\n",
    "    return df\n",
    "\n",
    "\n"
   ]
  }
 ],
 "metadata": {
  "kernelspec": {
   "display_name": "Python 3",
   "language": "python",
   "name": "python3"
  },
  "language_info": {
   "codemirror_mode": {
    "name": "ipython",
    "version": 3
   },
   "file_extension": ".py",
   "mimetype": "text/x-python",
   "name": "python",
   "nbconvert_exporter": "python",
   "pygments_lexer": "ipython3",
   "version": "3.8.5"
  }
 },
 "nbformat": 4,
 "nbformat_minor": 5
}

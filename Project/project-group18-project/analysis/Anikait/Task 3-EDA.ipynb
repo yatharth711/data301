{
 "cells": [
  {
   "cell_type": "markdown",
   "id": "e8206e41-c27c-4a94-a8c5-9812c8a86a29",
   "metadata": {},
   "source": [
    "# EDA - Anikait Kapur"
   ]
  },
  {
   "cell_type": "markdown",
   "id": "4b536892-7399-4677-b3a3-48e09a106eb5",
   "metadata": {},
   "source": [
    "## Description\n",
    "My EDA will focus on the efficecy of Lockdown comapred to the heard immmunity. Furthermore, I will also be breifly investigate whether or not a nationwide lockdown was a good way to fight covid-19. I will be focusing on India because it had one of the biggest nation wide lockdown during this pandemic. Furthermore, during its unlock phase, India implemented heard immunity alongside with minor measures such as masks and social distancing. "
   ]
  },
  {
   "cell_type": "markdown",
   "id": "b9abc73a-abf4-4d35-8080-7b9e05253f01",
   "metadata": {},
   "source": [
    "## Importing Libraries and Loading Data"
   ]
  },
  {
   "cell_type": "code",
   "execution_count": 1,
   "id": "acd46711-815c-45e9-a579-6971648b1ee7",
   "metadata": {},
   "outputs": [],
   "source": [
    "# Imported Items\n",
    "import pandas as pd\n",
    "from datetime import datetime\n",
    "import numpy as np\n",
    "import seaborn as sns\n",
    "import matplotlib.pyplot as plt\n",
    "\n",
    "def loading(path):\n",
    "    df = pd.read_csv(path)\n",
    "    return df\n",
    "df = loading(\"C:\\\\Users\\\\kapur\\\\Documents\\\\UBC\\\\1st Year\\\\1st Year Summer\\\\DATA 301\\\\Project\\\\project-group18-project\\\\data\\\\processed\\\\worldometers_snapshots_April18_to_September20.csv\")\n"
   ]
  },
  {
   "cell_type": "markdown",
   "id": "91cfd725-b06a-4b3d-b634-3d2735304499",
   "metadata": {},
   "source": [
    "## Wranlging Data\n",
    "- Isolating India and the data during the lockdown"
   ]
  },
  {
   "cell_type": "code",
   "execution_count": null,
   "id": "3e24c527-e7d3-4c21-bd04-2ed398380795",
   "metadata": {},
   "outputs": [],
   "source": [
    "df_India = df[df[\"Country\"] == \"India\"]\n",
    "df_India[\"Date\"] = pd.to_datetime(df_India[\"Date\"])\n",
    "df_India_lockdown = df_India.head(44)\n",
    "##I noticed that each row represents 1 day. Therefore, i figured out the number of days till the lockdown eneded from the start of the dataset\n",
    "\n",
    "df_India_lockdown"
   ]
  },
  {
   "cell_type": "markdown",
   "id": "4d86dff5-9a89-4798-9cbd-5fa4b4c676f9",
   "metadata": {},
   "source": [
    "## Removing unwanted columns and adding new columns"
   ]
  },
  {
   "cell_type": "code",
   "execution_count": null,
   "id": "7ab52b92-f5bc-448d-9ec2-936437f72333",
   "metadata": {},
   "outputs": [],
   "source": [
    "percentage = (df_India_lockdown[\"Active_Cases\"] / df_India_lockdown[\"Population\"]) * 100\n",
    "df_India_lockdown[\"%Active\"] = percentage\n",
    "\n",
    "\n",
    "def dailyCases():\n",
    "    cases = list(df_India_lockdown[\"Total_Cases\"])\n",
    "    daily_cases = []\n",
    "    for i in range(1,len(cases)):\n",
    "        daily_cases.append((cases[i] - cases[i-1])) \n",
    "    daily_cases1 = [0]\n",
    "    for i in range(0,len(daily_cases)):\n",
    "        daily_cases1.append(daily_cases[i])\n",
    "    df_India_lockdown[\"Daily_cases\"] = daily_cases1\n",
    "    \n",
    "dailyCases()\n",
    "\n",
    "\n",
    "\n",
    "\n",
    "df_India_lockdown1 = df_India_lockdown.drop(labels = [\"Total_Deaths\", \"Total_Tests\", \"Population\", \"Total_Recovered\",\"Serious_or_Critical\",\"Active_Cases\"], axis = 1)\n",
    "df_India_lockdown1 = df_India_lockdown1.dropna().reset_index(drop = True)\n",
    "\n",
    "\n",
    "\n",
    "##df_India_lockdown1"
   ]
  },
  {
   "cell_type": "markdown",
   "id": "8694a53c-16d7-4937-90ea-b838823bd526",
   "metadata": {},
   "source": [
    "# Analysing the Data\n",
    "\n",
    "\n",
    "## Research Questions:\n",
    "   1. Did the lockdown in india have a postive effect on the new cases and deaths?\n",
    "   2. Was herd immunity a viable option for dealing with Covid-19?\n",
    "\n",
    "\n",
    "\n",
    "\n",
    "\n",
    "Given that the data is numerical for the most part, it would be good to get a summury of the data"
   ]
  },
  {
   "cell_type": "code",
   "execution_count": null,
   "id": "62dcc1ad-4f46-43c5-bef3-df2d2b42e579",
   "metadata": {},
   "outputs": [],
   "source": [
    "df_India_lockdown1.describe(include=[np.number])\n"
   ]
  },
  {
   "cell_type": "code",
   "execution_count": null,
   "id": "a89cec92-010f-46bb-a538-9a7b427a2689",
   "metadata": {},
   "outputs": [],
   "source": [
    "#A scatter plot is a good visualisation of the daily new cases\n",
    "plot1 = sns.scatterplot(x = \"Date\", y = \"Daily_cases\", data = df_India_lockdown1)\n",
    "plot1.set(xlabel = \"Months\", ylabel = \"Daily Cases\", title = \"Daily Cases plotted against months\")\n",
    "sns.set(rc = {'figure.figsize':(20,10)})\n",
    "plt.show()\n"
   ]
  },
  {
   "cell_type": "markdown",
   "id": "0eef6608-de22-4ddf-9719-c6bef09e1fee",
   "metadata": {},
   "source": [
    "This scatter plot clearly shows that during the lockdown period, there was consistant rise in daily cases. This in turn suggests that the lockdown did not have a positive effect on the daily cases. "
   ]
  },
  {
   "cell_type": "code",
   "execution_count": null,
   "id": "c7e99164-8fcc-4f33-bb4e-48087ee01cf8",
   "metadata": {},
   "outputs": [],
   "source": [
    "plot2 = sns.barplot(x = \"Date\", y = \"%Active\", data = df_India_lockdown1)\n",
    "plt.xticks(rotation=90)\n",
    "sns.set(rc = {'figure.figsize':(20,10)})\n",
    "plt.show()"
   ]
  },
  {
   "cell_type": "markdown",
   "id": "e1d6c2dd-b397-42bc-ada8-4f0d6fc999e3",
   "metadata": {},
   "source": [
    "Much like the daily cases, the percentage postive cases are increasing. However, when looking at their quantitative value, during lockdown, the highest percentage positive population is less than 0.007% which in turn can be used as evidence that the lockdown possibly had a positive effective. "
   ]
  },
  {
   "cell_type": "markdown",
   "id": "86045f16-7f9a-4e96-8ee1-11b5dedafae5",
   "metadata": {},
   "source": [
    "# Herd Immunity"
   ]
  },
  {
   "cell_type": "markdown",
   "id": "08e829b8-7cb2-4bd1-861e-a60472c4be3a",
   "metadata": {},
   "source": [
    "Herd Immunity can be investigated in a similar manner to the Lockdown.\n"
   ]
  },
  {
   "cell_type": "code",
   "execution_count": null,
   "id": "8984a716-8ba9-44dc-a29d-4da9b67515ac",
   "metadata": {},
   "outputs": [],
   "source": [
    "def dailyDeaths(dataframe):\n",
    "    df_India_Herd = dataframe\n",
    "    cases = list(df_India_Herd[\"Total_Deaths\"])\n",
    "    daily_cases = []\n",
    "    for i in range(1,len(cases)):\n",
    "        daily_cases.append((cases[i] - cases[i-1])) \n",
    "    daily_cases1 = [0]\n",
    "    \n",
    "    for i in range(0,len(daily_cases)):\n",
    "        daily_cases1.append(daily_cases[i])\n",
    "    df_India_Herd[\"Daily_deaths\"] = daily_cases1\n",
    "    return df_India_Herd\n",
    "df_India_Herd = dailyDeaths(df_India)\n",
    "\n",
    "df_India_Herd\n",
    "\n",
    "df_India_Herd = df_India[df_India[\"Date\"] > '2020-05-31']\n",
    "df_India_Herd = df_India_Herd.drop(labels = [\"Total_Tests\", \"Serious_or_Critical\", \"Total_Recovered\"], axis = 1)\n",
    "df_India_Herd[\"%Active\"] = (df_India_Herd[\"Active_Cases\"]/df_India_Herd[\"Population\"]) * 100\n",
    "\n",
    "df_India_Herd = df_India_Herd.dropna().reset_index(drop = True)\n",
    "df_India_Herd = df_India_Herd.drop(labels = \"Population\", axis = 1)\n",
    "\n"
   ]
  },
  {
   "cell_type": "code",
   "execution_count": null,
   "id": "6f02fbb9-4f14-4123-a378-7a2ae993ddbe",
   "metadata": {},
   "outputs": [],
   "source": [
    "plot1 = sns.scatterplot(x = \"Date\", y = \"Daily_deaths\", data = df_India_Herd)\n",
    "plt.show()"
   ]
  },
  {
   "cell_type": "markdown",
   "id": "429937e8-d36c-4a51-b08e-f7f554ff7dbd",
   "metadata": {},
   "source": [
    "I used the deaths because they are a good indicator of people's immunity. The more immune people are to covid-19, the less deaths there would be."
   ]
  },
  {
   "cell_type": "code",
   "execution_count": null,
   "id": "af9b36d3-0956-4918-ba8b-e6537f607081",
   "metadata": {},
   "outputs": [],
   "source": [
    "df_India_Herd_temp = df_India_Herd\n",
    "df_India_Herd_temp = df_India_Herd_temp.drop(labels = [\"Active_Cases\", \"Country\"], axis =1 )\n",
    "\n",
    "sns.pairplot(data = df_India_Herd_temp, kind = \"scatter\", diag_kind = \"hist\", corner = True)\n",
    "plt.show()"
   ]
  },
  {
   "cell_type": "markdown",
   "id": "d46da6d1-d214-4f5d-aaeb-d907dbf1c2a0",
   "metadata": {},
   "source": [
    "# Conclusion\n",
    "\n"
   ]
  },
  {
   "cell_type": "markdown",
   "id": "0214823e-bcd3-41a7-a28c-057eb30f14f9",
   "metadata": {},
   "source": [
    "Research Question 1: \n",
    "\n",
    "From the first two graphs, it was pretty evident the number of cases were increasing during the lockdown. Looking at the scatter graph of daily cases. a steady increase in cases as well as a postive correlation can be seen. Both of these factors are evidence that suggests that the lockdown was not able to stop the speard of covid-19 however, it was able to limit it. This is seen from the bar plot with %Active cases. While the %Active also increaed at a steady rate, during the lockdown, the percantage maxed out at 0.007% which is very miniscule."
   ]
  },
  {
   "cell_type": "markdown",
   "id": "96173f24-70e5-4de4-a672-3b338dde5db1",
   "metadata": {},
   "source": [
    "Research Question 2:\n",
    "\n",
    "Herd Immunity, although, was not able to fully stop covid-19, it was able to limit the spread. Looking at the line graph, it can be seen that while the number of daily deaths increase, the rate of increase decreases slightly. This suggests that Herd Immunity increased people's immunity which in turn is evidence that it is indeed a viable way of dealing with covid-19. Further evidence of this is seen through the pairplot. In the pairplot, all the line graphs seen a decrease in their gradients which suggests that the rate of spread was decreasing. Much like the line graph, this is further proof that Herd Immunity did indeed decrease the spread of covid-19 by increasing people's resistance to it. "
   ]
  },
  {
   "cell_type": "code",
   "execution_count": null,
   "id": "8931cf1a-c7ff-438e-9e1c-6e3cbdb6f93a",
   "metadata": {},
   "outputs": [],
   "source": [
    "df_India_lockdown1"
   ]
  },
  {
   "cell_type": "code",
   "execution_count": null,
   "id": "15736269-b4d9-4c68-adc5-0d8ad0f94215",
   "metadata": {},
   "outputs": [],
   "source": [
    "df_India_Herd"
   ]
  },
  {
   "cell_type": "code",
   "execution_count": null,
   "id": "4dce4fc6-a3ca-4a90-bf0d-0c9815ba682c",
   "metadata": {},
   "outputs": [],
   "source": []
  }
 ],
 "metadata": {
  "kernelspec": {
   "display_name": "Python 3",
   "language": "python",
   "name": "python3"
  },
  "language_info": {
   "codemirror_mode": {
    "name": "ipython",
    "version": 3
   },
   "file_extension": ".py",
   "mimetype": "text/x-python",
   "name": "python",
   "nbconvert_exporter": "python",
   "pygments_lexer": "ipython3",
   "version": "3.8.5"
  }
 },
 "nbformat": 4,
 "nbformat_minor": 5
}

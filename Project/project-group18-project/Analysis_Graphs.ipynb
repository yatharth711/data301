{
 "cells": [
  {
   "cell_type": "markdown",
   "id": "65292c64",
   "metadata": {},
   "source": [
    "## Adding a few more graphs to get a better understanding of our Research Question.\n"
   ]
  },
  {
   "cell_type": "code",
   "execution_count": 12,
   "id": "fbf23b0a",
   "metadata": {},
   "outputs": [
    {
     "data": {
      "text/html": [
       "<div>\n",
       "<style scoped>\n",
       "    .dataframe tbody tr th:only-of-type {\n",
       "        vertical-align: middle;\n",
       "    }\n",
       "\n",
       "    .dataframe tbody tr th {\n",
       "        vertical-align: top;\n",
       "    }\n",
       "\n",
       "    .dataframe thead th {\n",
       "        text-align: right;\n",
       "    }\n",
       "</style>\n",
       "<table border=\"1\" class=\"dataframe\">\n",
       "  <thead>\n",
       "    <tr style=\"text-align: right;\">\n",
       "      <th></th>\n",
       "      <th>Date</th>\n",
       "      <th>Country</th>\n",
       "      <th>Population</th>\n",
       "      <th>Total_Tests</th>\n",
       "      <th>Total_Cases</th>\n",
       "      <th>Total_Deaths</th>\n",
       "      <th>Total_Recovered</th>\n",
       "      <th>Serious_or_Critical</th>\n",
       "      <th>Active_Cases</th>\n",
       "    </tr>\n",
       "  </thead>\n",
       "  <tbody>\n",
       "    <tr>\n",
       "      <th>0</th>\n",
       "      <td>2020-04-18</td>\n",
       "      <td>USA</td>\n",
       "      <td>331441624</td>\n",
       "      <td>3722145.0</td>\n",
       "      <td>738792.0</td>\n",
       "      <td>39014.0</td>\n",
       "      <td>68269.0</td>\n",
       "      <td>13551.0</td>\n",
       "      <td>631509.0</td>\n",
       "    </tr>\n",
       "    <tr>\n",
       "      <th>1</th>\n",
       "      <td>2020-04-18</td>\n",
       "      <td>India</td>\n",
       "      <td>1383048851</td>\n",
       "      <td>335123.0</td>\n",
       "      <td>16365.0</td>\n",
       "      <td>521.0</td>\n",
       "      <td>2463.0</td>\n",
       "      <td>NaN</td>\n",
       "      <td>13381.0</td>\n",
       "    </tr>\n",
       "    <tr>\n",
       "      <th>2</th>\n",
       "      <td>2020-04-18</td>\n",
       "      <td>Brazil</td>\n",
       "      <td>212900304</td>\n",
       "      <td>62985.0</td>\n",
       "      <td>36722.0</td>\n",
       "      <td>2361.0</td>\n",
       "      <td>14026.0</td>\n",
       "      <td>6634.0</td>\n",
       "      <td>20335.0</td>\n",
       "    </tr>\n",
       "    <tr>\n",
       "      <th>3</th>\n",
       "      <td>2020-04-18</td>\n",
       "      <td>Russia</td>\n",
       "      <td>145948762</td>\n",
       "      <td>1831892.0</td>\n",
       "      <td>36793.0</td>\n",
       "      <td>313.0</td>\n",
       "      <td>3057.0</td>\n",
       "      <td>8.0</td>\n",
       "      <td>33423.0</td>\n",
       "    </tr>\n",
       "    <tr>\n",
       "      <th>4</th>\n",
       "      <td>2020-04-18</td>\n",
       "      <td>Peru</td>\n",
       "      <td>33074060</td>\n",
       "      <td>135895.0</td>\n",
       "      <td>14420.0</td>\n",
       "      <td>348.0</td>\n",
       "      <td>6684.0</td>\n",
       "      <td>117.0</td>\n",
       "      <td>7388.0</td>\n",
       "    </tr>\n",
       "  </tbody>\n",
       "</table>\n",
       "</div>"
      ],
      "text/plain": [
       "         Date Country  Population  Total_Tests  Total_Cases  Total_Deaths  \\\n",
       "0  2020-04-18     USA   331441624    3722145.0     738792.0       39014.0   \n",
       "1  2020-04-18   India  1383048851     335123.0      16365.0         521.0   \n",
       "2  2020-04-18  Brazil   212900304      62985.0      36722.0        2361.0   \n",
       "3  2020-04-18  Russia   145948762    1831892.0      36793.0         313.0   \n",
       "4  2020-04-18    Peru    33074060     135895.0      14420.0         348.0   \n",
       "\n",
       "   Total_Recovered  Serious_or_Critical  Active_Cases  \n",
       "0          68269.0              13551.0      631509.0  \n",
       "1           2463.0                  NaN       13381.0  \n",
       "2          14026.0               6634.0       20335.0  \n",
       "3           3057.0                  8.0       33423.0  \n",
       "4           6684.0                117.0        7388.0  "
      ]
     },
     "execution_count": 12,
     "metadata": {},
     "output_type": "execute_result"
    }
   ],
   "source": [
    "import pandas as pd\n",
    "import numpy as np\n",
    "import matplotlib.pyplot as plt\n",
    "import seaborn as sns\n",
    "import os\n",
    "sns.set_style(\"white\")\n",
    "sns.set_theme(font_scale=1)\n",
    "\n",
    "path = r'./data/processed/worldometers_snapshots_April18_to_September20.csv'\n",
    "df = pd.read_csv(path)\n",
    "df.head()"
   ]
  },
  {
   "cell_type": "markdown",
   "id": "73a6acb6",
   "metadata": {},
   "source": [
    "### This plot will help answering Research questions 1 and 2"
   ]
  },
  {
   "cell_type": "code",
   "execution_count": null,
   "id": "1a2b6467",
   "metadata": {},
   "outputs": [],
   "source": []
  },
  {
   "cell_type": "code",
   "execution_count": null,
   "id": "2a9c21d1",
   "metadata": {},
   "outputs": [],
   "source": []
  }
 ],
 "metadata": {
  "kernelspec": {
   "display_name": "Python 3 (ipykernel)",
   "language": "python",
   "name": "python3"
  },
  "language_info": {
   "codemirror_mode": {
    "name": "ipython",
    "version": 3
   },
   "file_extension": ".py",
   "mimetype": "text/x-python",
   "name": "python",
   "nbconvert_exporter": "python",
   "pygments_lexer": "ipython3",
   "version": "3.8.5"
  }
 },
 "nbformat": 4,
 "nbformat_minor": 5
}
